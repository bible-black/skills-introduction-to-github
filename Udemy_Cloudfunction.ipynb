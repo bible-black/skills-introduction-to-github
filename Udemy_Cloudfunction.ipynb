{
  "nbformat": 4,
  "nbformat_minor": 0,
  "metadata": {
    "colab": {
      "provenance": [],
      "authorship_tag": "ABX9TyNKKTqhNxCcOgzA7QsBMJpT",
      "include_colab_link": true
    },
    "kernelspec": {
      "name": "python3",
      "display_name": "Python 3"
    },
    "language_info": {
      "name": "python"
    }
  },
  "cells": [
    {
      "cell_type": "markdown",
      "metadata": {
        "id": "view-in-github",
        "colab_type": "text"
      },
      "source": [
        "<a href=\"https://colab.research.google.com/github/bible-black/skills-introduction-to-github/blob/main/Udemy_Cloudfunction.ipynb\" target=\"_parent\"><img src=\"https://colab.research.google.com/assets/colab-badge.svg\" alt=\"Open In Colab\"/></a>"
      ]
    },
    {
      "cell_type": "code",
      "execution_count": null,
      "metadata": {
        "id": "4eIbY6-O6f-7"
      },
      "outputs": [],
      "source": [
        "import requests\n",
        "from bs4 import BeautifulSoup\n",
        "\n",
        "\n",
        "def google_search(keyword, domain, num_results=30):\n",
        "\n",
        "    google_search_url = \"https://www.google.com/search\"\n",
        "    headers = {\"User-Agent\": 'Mozilla/5.0 (Windows NT 10.0; Win64; x64) AppleWebKit/537.36 (KHTML, like Gecko) Chrome/123.0.0.0 Safari/537.36'}\n",
        "\n",
        "    keyword = \"データサイエンス　勉強\"\n",
        "    num_results = 30\n",
        "    params = {'q': keyword, 'num': num_results}\n",
        "\n",
        "    response = requests.get(google_search_url, headers=headers, params=params)\n",
        "    soup = BeautifulSoup(response.text, 'html.parser')\n",
        "    search_results = soup.select('div.yuRUbf > div > span > a')\n",
        "\n",
        "    for index, result in enumerate(search_results):\n",
        "        href = result.get('href')\n",
        "        if domain in href:\n",
        "            return index + 1\n",
        "    return '圏外です'\n",
        "\n",
        "# keywords = 'データサイエンス　勉強'\n",
        "# domain = 'https://datamix.co.jp'\n",
        "# rank = google_search(keyword, domain)\n",
        "# print(f'キーワードにおける{domain}のランキング: {rank}位です')\n"
      ]
    },
    {
      "cell_type": "code",
      "source": [
        "# カスタムサーチAPIによる検索取得方法\n",
        "\n",
        "import requests\n",
        "import json\n",
        "\n",
        "def google_search(keyword, domain):\n",
        "    search_url = 'https://www.googleapis.com/customsearch/v1'\n",
        "\n",
        "    api_key = ''\n",
        "    cse_id = ''"
      ],
      "metadata": {
        "id": "uC3pHa9c8XJj"
      },
      "execution_count": null,
      "outputs": []
    }
  ]
}